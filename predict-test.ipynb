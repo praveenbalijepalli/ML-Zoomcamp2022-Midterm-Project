{
 "cells": [
  {
   "cell_type": "code",
   "execution_count": 1,
   "id": "e1bc61e2",
   "metadata": {},
   "outputs": [],
   "source": [
    "import pandas as pd\n",
    "import requests\n",
    "import json"
   ]
  },
  {
   "cell_type": "code",
   "execution_count": 2,
   "id": "0e973d3c",
   "metadata": {},
   "outputs": [],
   "source": [
    "test = pd.read_csv(\"sampled_webpages_classification_test_data.csv\")"
   ]
  },
  {
   "cell_type": "code",
   "execution_count": 3,
   "id": "fb8ee005",
   "metadata": {},
   "outputs": [],
   "source": [
    "url = \"http://127.0.0.1:9696/predict\""
   ]
  },
  {
   "cell_type": "code",
   "execution_count": 4,
   "id": "4e0eff9f",
   "metadata": {},
   "outputs": [],
   "source": [
    "### Test input 1"
   ]
  },
  {
   "cell_type": "code",
   "execution_count": 5,
   "id": "76e59406",
   "metadata": {},
   "outputs": [
    {
     "data": {
      "text/html": [
       "<div>\n",
       "<style scoped>\n",
       "    .dataframe tbody tr th:only-of-type {\n",
       "        vertical-align: middle;\n",
       "    }\n",
       "\n",
       "    .dataframe tbody tr th {\n",
       "        vertical-align: top;\n",
       "    }\n",
       "\n",
       "    .dataframe thead th {\n",
       "        text-align: right;\n",
       "    }\n",
       "</style>\n",
       "<table border=\"1\" class=\"dataframe\">\n",
       "  <thead>\n",
       "    <tr style=\"text-align: right;\">\n",
       "      <th></th>\n",
       "      <th>url</th>\n",
       "      <th>url_len</th>\n",
       "      <th>ip_add</th>\n",
       "      <th>geo_loc</th>\n",
       "      <th>tld</th>\n",
       "      <th>who_is</th>\n",
       "      <th>https</th>\n",
       "      <th>js_len</th>\n",
       "      <th>js_obf_len</th>\n",
       "      <th>content</th>\n",
       "      <th>label</th>\n",
       "    </tr>\n",
       "  </thead>\n",
       "  <tbody>\n",
       "    <tr>\n",
       "      <th>2346</th>\n",
       "      <td>http://goodporn4u.com/sites/sitesd/bedroomplay...</td>\n",
       "      <td>61</td>\n",
       "      <td>198.78.70.144</td>\n",
       "      <td>United States</td>\n",
       "      <td>com</td>\n",
       "      <td>incomplete</td>\n",
       "      <td>no</td>\n",
       "      <td>562.5</td>\n",
       "      <td>528.75</td>\n",
       "      <td>zigabo fingerfucker butchbabes ejaculation nas...</td>\n",
       "      <td>bad</td>\n",
       "    </tr>\n",
       "  </tbody>\n",
       "</table>\n",
       "</div>"
      ],
      "text/plain": [
       "                                                    url  url_len  \\\n",
       "2346  http://goodporn4u.com/sites/sitesd/bedroomplay...       61   \n",
       "\n",
       "             ip_add        geo_loc  tld      who_is https  js_len  js_obf_len  \\\n",
       "2346  198.78.70.144  United States  com  incomplete    no   562.5      528.75   \n",
       "\n",
       "                                                content label  \n",
       "2346  zigabo fingerfucker butchbabes ejaculation nas...   bad  "
      ]
     },
     "execution_count": 5,
     "metadata": {},
     "output_type": "execute_result"
    }
   ],
   "source": [
    "test_data1 = test.sample(1, random_state=100) \n",
    "test_data1"
   ]
  },
  {
   "cell_type": "code",
   "execution_count": 6,
   "id": "ee4af931",
   "metadata": {},
   "outputs": [],
   "source": [
    "test_data1.drop(\"label\",axis=1,inplace=True) # Dropping label column because it should be the predicted output"
   ]
  },
  {
   "cell_type": "code",
   "execution_count": 7,
   "id": "90705137",
   "metadata": {
    "scrolled": true
   },
   "outputs": [],
   "source": [
    "dict_test_data1 = json.loads(test_data1.to_json(orient='records', lines=True))"
   ]
  },
  {
   "cell_type": "code",
   "execution_count": 8,
   "id": "a72577ea",
   "metadata": {
    "scrolled": true
   },
   "outputs": [
    {
     "name": "stdout",
     "output_type": "stream",
     "text": [
      "{\n",
      "  \"label\": \"Bad\"\n",
      "}\n"
     ]
    }
   ],
   "source": [
    "response1 = requests.post(url, json=dict_test_data1).json()\n",
    "print(json.dumps(response1,indent=2))"
   ]
  },
  {
   "cell_type": "code",
   "execution_count": null,
   "id": "262bda93",
   "metadata": {},
   "outputs": [],
   "source": [
    " "
   ]
  },
  {
   "cell_type": "code",
   "execution_count": 9,
   "id": "36dc1bf9",
   "metadata": {},
   "outputs": [],
   "source": [
    "### Test input 2"
   ]
  },
  {
   "cell_type": "code",
   "execution_count": 10,
   "id": "4c5a8504",
   "metadata": {},
   "outputs": [
    {
     "data": {
      "text/html": [
       "<div>\n",
       "<style scoped>\n",
       "    .dataframe tbody tr th:only-of-type {\n",
       "        vertical-align: middle;\n",
       "    }\n",
       "\n",
       "    .dataframe tbody tr th {\n",
       "        vertical-align: top;\n",
       "    }\n",
       "\n",
       "    .dataframe thead th {\n",
       "        text-align: right;\n",
       "    }\n",
       "</style>\n",
       "<table border=\"1\" class=\"dataframe\">\n",
       "  <thead>\n",
       "    <tr style=\"text-align: right;\">\n",
       "      <th></th>\n",
       "      <th>url</th>\n",
       "      <th>url_len</th>\n",
       "      <th>ip_add</th>\n",
       "      <th>geo_loc</th>\n",
       "      <th>tld</th>\n",
       "      <th>who_is</th>\n",
       "      <th>https</th>\n",
       "      <th>js_len</th>\n",
       "      <th>js_obf_len</th>\n",
       "      <th>content</th>\n",
       "      <th>label</th>\n",
       "    </tr>\n",
       "  </thead>\n",
       "  <tbody>\n",
       "    <tr>\n",
       "      <th>1189</th>\n",
       "      <td>http://www.tribal-style-dance.info/</td>\n",
       "      <td>35</td>\n",
       "      <td>16.209.12.96</td>\n",
       "      <td>United States</td>\n",
       "      <td>info</td>\n",
       "      <td>complete</td>\n",
       "      <td>yes</td>\n",
       "      <td>138.5</td>\n",
       "      <td>0.0</td>\n",
       "      <td>Cyprus, malta, is 5.1. It change, from fires. ...</td>\n",
       "      <td>good</td>\n",
       "    </tr>\n",
       "  </tbody>\n",
       "</table>\n",
       "</div>"
      ],
      "text/plain": [
       "                                      url  url_len        ip_add  \\\n",
       "1189  http://www.tribal-style-dance.info/       35  16.209.12.96   \n",
       "\n",
       "            geo_loc   tld    who_is https  js_len  js_obf_len  \\\n",
       "1189  United States  info  complete   yes   138.5         0.0   \n",
       "\n",
       "                                                content label  \n",
       "1189  Cyprus, malta, is 5.1. It change, from fires. ...  good  "
      ]
     },
     "execution_count": 10,
     "metadata": {},
     "output_type": "execute_result"
    }
   ],
   "source": [
    "test_data2 = test.sample(1, random_state=362) \n",
    "test_data2"
   ]
  },
  {
   "cell_type": "code",
   "execution_count": 11,
   "id": "b5745f0d",
   "metadata": {},
   "outputs": [],
   "source": [
    "test_data2.drop(\"label\", axis=1, inplace=True) # Dropping label column because it should be the predicted output"
   ]
  },
  {
   "cell_type": "code",
   "execution_count": 12,
   "id": "fbf02eb5",
   "metadata": {},
   "outputs": [],
   "source": [
    "dict_test_data2 = json.loads(test_data2.to_json(orient='records', lines=True))"
   ]
  },
  {
   "cell_type": "code",
   "execution_count": 13,
   "id": "a4cdc844",
   "metadata": {},
   "outputs": [
    {
     "name": "stdout",
     "output_type": "stream",
     "text": [
      "{\n",
      "  \"label\": \"Good\"\n",
      "}\n"
     ]
    }
   ],
   "source": [
    "response2 = requests.post(url, json=dict_test_data2).json()\n",
    "print(json.dumps(response2,indent=2))"
   ]
  },
  {
   "cell_type": "code",
   "execution_count": null,
   "id": "4bd4fe7e",
   "metadata": {},
   "outputs": [],
   "source": []
  }
 ],
 "metadata": {
  "kernelspec": {
   "display_name": "Python 3 (ipykernel)",
   "language": "python",
   "name": "python3"
  },
  "language_info": {
   "codemirror_mode": {
    "name": "ipython",
    "version": 3
   },
   "file_extension": ".py",
   "mimetype": "text/x-python",
   "name": "python",
   "nbconvert_exporter": "python",
   "pygments_lexer": "ipython3",
   "version": "3.10.7"
  }
 },
 "nbformat": 4,
 "nbformat_minor": 5
}
